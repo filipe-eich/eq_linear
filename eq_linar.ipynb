{
 "cells": [
  {
   "cell_type": "code",
   "execution_count": 1,
   "id": "448c25c0-2634-48ab-96d9-cd63a23aee65",
   "metadata": {},
   "outputs": [
    {
     "data": {
      "text/plain": [
       "'\\nPrograma: eq_linar\\nDescrição: Este programa resolve uma equação linear com termos à escolha do usuário\\nAutor: Filipe Eich\\nData: 27/02/2025\\nVersao: 0.0.1\\n'"
      ]
     },
     "execution_count": 1,
     "metadata": {},
     "output_type": "execute_result"
    }
   ],
   "source": [
    "\"\"\"\n",
    "Programa: eq_linear\n",
    "Descrição: Este programa resolve uma equação linear com termos à escolha do usuário\n",
    "Autor: Filipe Eich\n",
    "Data: 27/02/2025\n",
    "Versao: 0.0.1\n",
    "\"\"\"\n"
   ]
  },
  {
   "cell_type": "code",
   "execution_count": 2,
   "id": "894fd8a0-64c7-4b54-8659-5d44615f515f",
   "metadata": {},
   "outputs": [],
   "source": [
    "#Alocaçao de memoria\n",
    "\n",
    "a=\"\"\n",
    "x=\"\"\n",
    "b=\"\"\n"
   ]
  },
  {
   "cell_type": "code",
   "execution_count": 3,
   "id": "69533df8-fc7f-49b8-b32f-92411efd25d3",
   "metadata": {
    "scrolled": true
   },
   "outputs": [
    {
     "name": "stdin",
     "output_type": "stream",
     "text": [
      "\n",
      "Olá! Vamos achar o valor de X em uma equação linear? Considere o formato a.x = b , Qual valor de a?:  10\n",
      "\n",
      "Agora, me diga o valor para b:  5\n"
     ]
    }
   ],
   "source": [
    "#Entrada de dados\n",
    "\n",
    "a = float(input(\"\\nOlá! Vamos achar o valor de X em uma equação linear? Considere o formato a.x = b , Qual valor de a?: \"))\n",
    "\n",
    "b = float(input(\"\\nAgora, me diga o valor para b: \"))\n",
    "\n",
    "\n",
    "\n",
    "\n"
   ]
  },
  {
   "cell_type": "code",
   "execution_count": 5,
   "id": "9ec6182e-f888-4622-8308-4ecf55fffcc7",
   "metadata": {},
   "outputs": [],
   "source": [
    "# Processamento de dados\n",
    "\n",
    "x=(b/a)\n"
   ]
  },
  {
   "cell_type": "code",
   "execution_count": 7,
   "id": "23ca565b-9252-4690-983f-980220c1d4f4",
   "metadata": {},
   "outputs": [
    {
     "name": "stdout",
     "output_type": "stream",
     "text": [
      "\n",
      "Aqui está o valor do X: 0.5\n"
     ]
    }
   ],
   "source": [
    "#Saida de dados\n",
    "\n",
    "\n",
    "print(f\"\\nAqui está o valor do X: {x}\")\n",
    "\n",
    "\n"
   ]
  },
  {
   "cell_type": "code",
   "execution_count": null,
   "id": "5963554e-b214-463f-820b-86e8ba70fe6c",
   "metadata": {},
   "outputs": [],
   "source": []
  }
 ],
 "metadata": {
  "kernelspec": {
   "display_name": "Python [conda env:base] *",
   "language": "python",
   "name": "conda-base-py"
  },
  "language_info": {
   "codemirror_mode": {
    "name": "ipython",
    "version": 3
   },
   "file_extension": ".py",
   "mimetype": "text/x-python",
   "name": "python",
   "nbconvert_exporter": "python",
   "pygments_lexer": "ipython3",
   "version": "3.12.7"
  }
 },
 "nbformat": 4,
 "nbformat_minor": 5
}
